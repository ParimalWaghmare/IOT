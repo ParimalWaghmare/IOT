{
 "cells": [
  {
   "cell_type": "code",
   "execution_count": 5,
   "id": "07502e8d-95e3-4e9f-a7e5-a32abbd0d065",
   "metadata": {},
   "outputs": [],
   "source": [
    "import numpy as np"
   ]
  },
  {
   "cell_type": "code",
   "execution_count": 7,
   "id": "ef35d9b0-fd2d-4656-8182-310422889abd",
   "metadata": {},
   "outputs": [
    {
     "name": "stdout",
     "output_type": "stream",
     "text": [
      "Array Size = 4\n"
     ]
    }
   ],
   "source": [
    "arr = np.array([1,7,13,105])\n",
    "print(f\"Array Size = {arr.size}\")"
   ]
  },
  {
   "cell_type": "code",
   "execution_count": 10,
   "id": "36a3771f-d6a5-43e6-bb4c-40e910e5fb2e",
   "metadata": {},
   "outputs": [
    {
     "name": "stdout",
     "output_type": "stream",
     "text": [
      "[False False False]\n",
      "[False False False]\n",
      "[ True  True  True]\n"
     ]
    }
   ],
   "source": [
    "arr1= np.array([10,30,50])\n",
    "arr2 = np.array([20,40,60])\n",
    "\n",
    "greater = np.greater(arr1,arr2)\n",
    "print(greater)\n",
    "\n",
    "equal = np.greater_equal(arr1,arr2)\n",
    "print(equal)\n",
    "\n",
    "lesser = np.less(arr1,arr2)\n",
    "print(lesser)"
   ]
  },
  {
   "cell_type": "code",
   "execution_count": 17,
   "id": "0fd189cb-1b74-4ea5-9e5d-bf370cfdb9e0",
   "metadata": {},
   "outputs": [
    {
     "name": "stdout",
     "output_type": "stream",
     "text": [
      "[0. 0. 0. 0. 0. 0. 0. 0. 0. 0.]\n",
      "[1. 1. 1. 1. 1. 1. 1. 1. 1. 1.]\n",
      "[5 5 5 5 5 5 5 5 5 5]\n",
      "[10 10 10 10 10 10 10 10 10 10]\n",
      "[20 20 20 20 20 20 20 20 20 20]\n",
      "[50 50 50 50 50 50 50 50 50 50]\n"
     ]
    }
   ],
   "source": [
    " \n",
    " arr1 = np.zeros(10)\n",
    " print(arr1)\n",
    " arr2 = np.ones(10)\n",
    " print(arr2)\n",
    " arr3 = np.full(10,5)\n",
    " print(arr3)\n",
    " arr4= np.full(10,10)\n",
    " print(arr4)\n",
    " arr5 = np.full(10,20)\n",
    " print(arr5)\n",
    " arr6= np.full(10,50)\n",
    " print(arr6)\n"
   ]
  },
  {
   "cell_type": "code",
   "execution_count": 18,
   "id": "8be3c589-2770-458c-b2ab-7d607eb47752",
   "metadata": {},
   "outputs": [
    {
     "name": "stdout",
     "output_type": "stream",
     "text": [
      "[30 31 32 33 34 35 36 37 38 39 40 41 42 43 44 45 46 47 48 49 50 51 52 53\n",
      " 54 55 56 57 58 59 60 61 62 63 64 65 66 67 68 69]\n"
     ]
    }
   ],
   "source": [
    "arr1 = np.arange(30,71)\n",
    "print(arr1)"
   ]
  },
  {
   "cell_type": "code",
   "execution_count": 20,
   "id": "1195dc5c-8dce-49bd-b691-737245815f17",
   "metadata": {},
   "outputs": [
    {
     "name": "stdout",
     "output_type": "stream",
     "text": [
      "[50 51 52 53 54 55 56 57 58 59 60 61 62 63 64 65 66 67 68 69 70 71 72 73\n",
      " 74 75 76 77 78 79 80 81 82 83 84 85 86 87 88 89 90 91 92 93 94 95]\n"
     ]
    }
   ],
   "source": [
    "arr1= np.arange(50,96)\n",
    "print(arr1)"
   ]
  },
  {
   "cell_type": "code",
   "execution_count": 22,
   "id": "9ea0a918-52a1-43a2-9660-7167204064b7",
   "metadata": {},
   "outputs": [
    {
     "name": "stdout",
     "output_type": "stream",
     "text": [
      "[20 22 24 26 28 30 32 34 36 38 40 42 44 46 48 50 52 54 56 58 60 62 64 66\n",
      " 68 70 72 74 76 78 80]\n"
     ]
    }
   ],
   "source": [
    "arr1 = np.arange(20,82,2)\n",
    "print(arr1)"
   ]
  },
  {
   "cell_type": "code",
   "execution_count": 27,
   "id": "10394b5a-a607-419b-8fc5-fb2f8478492c",
   "metadata": {},
   "outputs": [
    {
     "name": "stdout",
     "output_type": "stream",
     "text": [
      "[21 23 25 27 29 31 33 35 37 39 41 43 45 47 49 51 53 55 57 59 61 63 65 67\n",
      " 69 71 73 75 77 79]\n"
     ]
    }
   ],
   "source": [
    "arr1 = np.arange(21,81,2)\n",
    "print(arr1)"
   ]
  },
  {
   "cell_type": "code",
   "execution_count": 28,
   "id": "dcc16d72-8dfb-486e-9b65-100c8f1832f5",
   "metadata": {},
   "outputs": [
    {
     "name": "stdout",
     "output_type": "stream",
     "text": [
      "[10 36 22 30 29 14 23 14 26 12 19 14 39 38 32]\n"
     ]
    }
   ],
   "source": [
    "n3 = np.random.randint(10,40,15)\n",
    "print(n3)"
   ]
  },
  {
   "cell_type": "code",
   "execution_count": 29,
   "id": "7303d2ab-a36d-420a-9f1a-78253f167b3a",
   "metadata": {},
   "outputs": [
    {
     "name": "stdout",
     "output_type": "stream",
     "text": [
      "[36 39 42 37 38 48 41 42 43 44]\n"
     ]
    }
   ],
   "source": [
    "n3 = np.random.randint(30,50,10)\n",
    "print(n3)"
   ]
  },
  {
   "cell_type": "code",
   "execution_count": 30,
   "id": "732f18ac-eaed-4967-aa42-01b94ff9be13",
   "metadata": {},
   "outputs": [
    {
     "name": "stdout",
     "output_type": "stream",
     "text": [
      "[70 83 77 76 87 74 61 78 64 84 59 71 52 57 75 74 80 57 73 81]\n"
     ]
    }
   ],
   "source": [
    "n3= np.random.randint(50,90,20)\n",
    "print(n3)"
   ]
  },
  {
   "cell_type": "code",
   "execution_count": 33,
   "id": "84d2d71e-0b63-4d1e-9c79-e9d58dee2d89",
   "metadata": {},
   "outputs": [
    {
     "name": "stdout",
     "output_type": "stream",
     "text": [
      "[ 60  80 100 120]\n",
      "[-40 -40 -40 -40]\n",
      "[ 500 1200 2100 3200]\n",
      "[0.2        0.33333333 0.42857143 0.5       ]\n"
     ]
    }
   ],
   "source": [
    "arr1=np.array([10,20,30,40])\n",
    "arr2=np.array([50,60,70,80])\n",
    "print(arr1+arr2)\n",
    "print(arr1-arr2)\n",
    "print(arr1*arr2)\n",
    "print(arr1/arr2)"
   ]
  },
  {
   "cell_type": "code",
   "execution_count": 36,
   "id": "1385899a-1808-4aa7-b4b8-5e9851e9ed8b",
   "metadata": {},
   "outputs": [
    {
     "name": "stdout",
     "output_type": "stream",
     "text": [
      "[[10 11 12 13]\n",
      " [14 15 16 17]\n",
      " [18 19 20 21]]\n"
     ]
    }
   ],
   "source": [
    "n1 = np.arange(10,22)\n",
    "n1 = n1.reshape(3,4)\n",
    "print(n1)\n"
   ]
  },
  {
   "cell_type": "code",
   "execution_count": 38,
   "id": "42db5ca1-3a94-4241-813f-ec9ed814338a",
   "metadata": {},
   "outputs": [
    {
     "name": "stdout",
     "output_type": "stream",
     "text": [
      "[[1. 0. 0.]\n",
      " [0. 1. 0.]\n",
      " [0. 0. 1.]]\n"
     ]
    }
   ],
   "source": [
    "n1= np.eye(3)\n",
    "print(n1)"
   ]
  },
  {
   "cell_type": "code",
   "execution_count": 46,
   "id": "936d7401-3a54-40a5-99a2-78ed29d653f3",
   "metadata": {},
   "outputs": [
    {
     "name": "stdout",
     "output_type": "stream",
     "text": [
      "3\n",
      "3\n"
     ]
    }
   ],
   "source": [
    "#Q14\n",
    "n1 = np.array([[10,20,30],[40,50,60],[70,80,90]])\n",
    "\n",
    "num_rows = n1.shape[0]\n",
    "num_columns= n1.shape[1]\n",
    "print(num_rows)\n",
    "print(num_columns)"
   ]
  },
  {
   "cell_type": "code",
   "execution_count": 50,
   "id": "dac0f9cf-7472-4332-bde5-55a5a5c85cb3",
   "metadata": {},
   "outputs": [
    {
     "name": "stdout",
     "output_type": "stream",
     "text": [
      "[[1 0 0 0 0]\n",
      " [0 2 0 0 0]\n",
      " [0 0 3 0 0]\n",
      " [0 0 0 4 0]\n",
      " [0 0 0 0 5]]\n"
     ]
    }
   ],
   "source": [
    "#Q.15\n",
    "\n",
    "print(np.diag([1,2,3,4,5]))"
   ]
  },
  {
   "cell_type": "code",
   "execution_count": 52,
   "id": "4c3ad5be-3f81-416c-8d8e-18ed96cbde85",
   "metadata": {},
   "outputs": [
    {
     "name": "stdout",
     "output_type": "stream",
     "text": [
      "[[[ 9  9  8]\n",
      "  [ 6  1  3]\n",
      "  [ 8  2  3]]\n",
      "\n",
      " [[ 2  5  3]\n",
      "  [ 6 10 10]\n",
      "  [ 7  3  6]]\n",
      "\n",
      " [[ 3  8  4]\n",
      "  [ 9  4 10]\n",
      "  [ 6 10  1]]]\n"
     ]
    }
   ],
   "source": [
    "#Q.16\n",
    "array3d = np.random.randint(1,11, size= (3,3,3))\n",
    "print(array3d)"
   ]
  },
  {
   "cell_type": "code",
   "execution_count": 55,
   "id": "7b0f211b-646a-4c1b-a7bf-c54c891f1699",
   "metadata": {},
   "outputs": [
    {
     "name": "stdout",
     "output_type": "stream",
     "text": [
      "[[[ 6  3  5 10]\n",
      "  [ 4  4  1  1]\n",
      "  [ 8  3  1 10]]\n",
      "\n",
      " [[10 10  4  7]\n",
      "  [ 6  1  6  7]\n",
      "  [10  8  9 10]]]\n"
     ]
    }
   ],
   "source": [
    "array2_3_4d = np.random.randint(1,11, size = (2,3,4))\n",
    "print(array2_3_4d)"
   ]
  },
  {
   "cell_type": "code",
   "execution_count": 56,
   "id": "9101af68-2f89-4f8d-8861-7a4f9ed2de54",
   "metadata": {},
   "outputs": [
    {
     "name": "stdout",
     "output_type": "stream",
     "text": [
      "[10 20 30 40 50]\n"
     ]
    }
   ],
   "source": [
    "#Q.18\n",
    "ls = ([10,20,30,40,50])\n",
    "print(np.array(ls))"
   ]
  },
  {
   "cell_type": "code",
   "execution_count": 60,
   "id": "f6b34745-4213-447a-9622-8fdebbcf7232",
   "metadata": {},
   "outputs": [
    {
     "name": "stdout",
     "output_type": "stream",
     "text": [
      "[[[ 2  5  3]\n",
      "  [ 3  5  7]\n",
      "  [ 5  4  2]]\n",
      "\n",
      " [[10 10  7]\n",
      "  [ 3  8  5]\n",
      "  [ 4  3  8]]\n",
      "\n",
      " [[ 5  8  3]\n",
      "  [ 9  2  7]\n",
      "  [ 6  8  7]]]\n"
     ]
    }
   ],
   "source": [
    "#Q.19\n",
    "array3_3d = np.random.randint(2,11, size= (3,3,3))\n",
    "print(array3_3d)"
   ]
  },
  {
   "cell_type": "code",
   "execution_count": 63,
   "id": "50fdf635-be8c-4f4a-8b02-bf32627863d3",
   "metadata": {},
   "outputs": [
    {
     "name": "stdout",
     "output_type": "stream",
     "text": [
      "[12 13 14 15 16 17 18 19 20 21 22 23 24 25 26 27 28 29 30 31 32 33 34 35\n",
      " 36 37]\n"
     ]
    }
   ],
   "source": [
    "#Q.20\n",
    "arr = np.arange(12,38)\n",
    "print(arr)"
   ]
  },
  {
   "cell_type": "code",
   "execution_count": 67,
   "id": "cd31a553-001b-4e82-ab62-bb49e867a7c9",
   "metadata": {},
   "outputs": [
    {
     "name": "stdout",
     "output_type": "stream",
     "text": [
      "[37 36 35 34 33 32 31 30 29 28 27 26 25 24 23 22 21 20 19 18 17 16 15 14\n",
      " 13 12]\n"
     ]
    }
   ],
   "source": [
    "#Q.21\n",
    "arr = np.arange(12,38)\n",
    "reverse = np.flip(arr)\n",
    "print(reverse)"
   ]
  },
  {
   "cell_type": "code",
   "execution_count": 69,
   "id": "0bb8bbe5-fd39-4953-a75e-aa8b838a0318",
   "metadata": {},
   "outputs": [
    {
     "name": "stdout",
     "output_type": "stream",
     "text": [
      "20.0\n"
     ]
    }
   ],
   "source": [
    "n1 = 20\n",
    "print(float(n1))"
   ]
  },
  {
   "cell_type": "code",
   "execution_count": 74,
   "id": "ee45e04b-4038-4a6a-8dda-57508508a029",
   "metadata": {},
   "outputs": [
    {
     "name": "stdout",
     "output_type": "stream",
     "text": [
      "[10 20 30 40]\n"
     ]
    }
   ],
   "source": [
    "n1= ([10,20,30,40])\n",
    "print(np.array(n1))"
   ]
  },
  {
   "cell_type": "code",
   "execution_count": 77,
   "id": "72181c5d-412f-45c1-8a28-fa9c25d64d69",
   "metadata": {},
   "outputs": [
    {
     "name": "stdout",
     "output_type": "stream",
     "text": [
      "[10 20 30 40]\n"
     ]
    }
   ],
   "source": [
    "arr1 = ([10,20,30,40])\n",
    "arr2 = ([50,60,70,80])\n",
    "remainder = np.mod(arr1,arr2)\n",
    "print(remainder)"
   ]
  },
  {
   "cell_type": "code",
   "execution_count": null,
   "id": "80c9f030-711c-4474-a383-8ed2e713db3c",
   "metadata": {},
   "outputs": [],
   "source": []
  }
 ],
 "metadata": {
  "kernelspec": {
   "display_name": "Python 3 (ipykernel)",
   "language": "python",
   "name": "python3"
  },
  "language_info": {
   "codemirror_mode": {
    "name": "ipython",
    "version": 3
   },
   "file_extension": ".py",
   "mimetype": "text/x-python",
   "name": "python",
   "nbconvert_exporter": "python",
   "pygments_lexer": "ipython3",
   "version": "3.10.12"
  }
 },
 "nbformat": 4,
 "nbformat_minor": 5
}
